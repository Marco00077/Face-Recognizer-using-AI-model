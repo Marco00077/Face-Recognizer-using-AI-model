{
 "cells": [
  {
   "cell_type": "markdown",
   "id": "3f6b80c4-dbf2-4050-a633-7a92e6cecda6",
   "metadata": {},
   "source": [
    "# Generate dataset"
   ]
  },
  {
   "cell_type": "code",
   "execution_count": 1,
   "id": "33cfb3bf",
   "metadata": {},
   "outputs": [
    {
     "name": "stdout",
     "output_type": "stream",
     "text": [
      "Collecting samples is completed....\n"
     ]
    }
   ],
   "source": [
    "import cv2\n",
    "import os\n",
    "import pandas as pd\n",
    "\n",
    "# Step 1: Generate Dataset\n",
    "def generate_dataset():\n",
    "    face_classifier = cv2.CascadeClassifier(\"haarcascade_frontalface_default.xml\")\n",
    "\n",
    "    def face_cropped(img):\n",
    "        gray = cv2.cvtColor(img, cv2.COLOR_BGR2GRAY)\n",
    "        faces = face_classifier.detectMultiScale(gray, 1.3, 5)\n",
    "        if len(faces) == 0:\n",
    "            return None\n",
    "        for (x, y, w, h) in faces:\n",
    "            cropped_face = img[y:y+h, x:x+w]\n",
    "        return cropped_face\n",
    "\n",
    "    cap = cv2.VideoCapture(0)\n",
    "\n",
    "    # Ask for user ID until a valid one is given\n",
    "    while True:\n",
    "        user_id = input(\"Enter user ID (numeric): \")\n",
    "        try:\n",
    "            user_id = int(user_id)\n",
    "            # Check if ID is already taken\n",
    "            if os.path.exists('data/faces_data.csv'):\n",
    "                df = pd.read_csv('data/faces_data.csv')\n",
    "                if user_id in df['id'].values:\n",
    "                    print(\"ID already taken. Please choose a different ID.\")\n",
    "                    continue\n",
    "            break\n",
    "        except ValueError:\n",
    "            print(\"Invalid ID. Please enter a numeric value.\")\n",
    "\n",
    "    user_name = input(\"Enter your name: \")\n",
    "\n",
    "    img_id = 0\n",
    "\n",
    "    # Create data directory if it doesn't exist\n",
    "    if not os.path.exists('data'):\n",
    "        os.makedirs('data')\n",
    "\n",
    "    # Prepare CSV file for saving metadata\n",
    "    csv_file_path = 'data/faces_data.csv'\n",
    "    if not os.path.exists(csv_file_path):\n",
    "        with open(csv_file_path, 'w') as f:\n",
    "            f.write(\"id,name,img_id,file_path\\n\")  # Write header\n",
    "\n",
    "    while True:\n",
    "        ret, frame = cap.read()\n",
    "        if face_cropped(frame) is not None:\n",
    "            img_id += 1\n",
    "            face = cv2.resize(face_cropped(frame), (200, 200))\n",
    "            face = cv2.cvtColor(face, cv2.COLOR_BGR2GRAY)\n",
    "            file_name_path = f\"data/user.{user_id}.{img_id}.jpg\"\n",
    "            cv2.imwrite(file_name_path, face)\n",
    "\n",
    "            # Append metadata to CSV using pd.concat\n",
    "            df = pd.read_csv(csv_file_path)\n",
    "            new_row = pd.DataFrame({'id': [user_id], 'name': [user_name], 'img_id': [img_id], 'file_path': [file_name_path]})\n",
    "            df = pd.concat([df, new_row], ignore_index=True)\n",
    "            df.to_csv(csv_file_path, index=False)\n",
    "\n",
    "            cv2.putText(face, str(img_id), (50, 50), cv2.FONT_HERSHEY_COMPLEX, 1, (0, 255, 0), 2)\n",
    "            cv2.imshow(\"Cropped face\", face)\n",
    "\n",
    "        if cv2.waitKey(1) == 13 or img_id == 200:  # 13 is the ASCII character for Enter\n",
    "            break\n",
    "\n",
    "    cap.release()\n",
    "    cv2.destroyAllWindows()\n",
    "    print(\"Collecting samples is completed....\")\n",
    "    \n",
    "generate_dataset()\n"
   ]
  },
  {
   "cell_type": "markdown",
   "id": "7a1c8d7b",
   "metadata": {},
   "source": [
    "# Train Classifier"
   ]
  },
  {
   "cell_type": "code",
   "execution_count": 2,
   "id": "c9d704de",
   "metadata": {},
   "outputs": [
    {
     "name": "stdout",
     "output_type": "stream",
     "text": [
      "Classifier training completed and saved as 'classifier.xml'.\n"
     ]
    }
   ],
   "source": [
    "import numpy as np\n",
    "from PIL import Image\n",
    "\n",
    "# Step 2: Train the Classifier and Save It\n",
    "def train_classifier(data_file):\n",
    "    # Load the data from the CSV\n",
    "    df = pd.read_csv(data_file)\n",
    "\n",
    "    faces = []\n",
    "    ids = []\n",
    "\n",
    "    for index, row in df.iterrows():\n",
    "        try:\n",
    "            img_path = row['file_path']\n",
    "            id = int(row['id'])  # Ensure that ID is an integer\n",
    "            img = Image.open(img_path).convert('L')\n",
    "            imageNp = np.array(img, 'uint8')\n",
    "            faces.append(imageNp)\n",
    "            ids.append(id)\n",
    "        except FileNotFoundError as e:\n",
    "            print(f\"File not found for row {index}: {e}\")\n",
    "            continue  # Skip the current row if there's an error\n",
    "        except ValueError as e:\n",
    "            print(f\"Skipping row {index} due to error: {e}\")\n",
    "            continue  # Skip the current row if there's an error\n",
    "\n",
    "    ids = np.array(ids, dtype=np.int32)  # Convert to a NumPy array of type int32\n",
    "\n",
    "    # Train the classifier and save it\n",
    "    clf = cv2.face.LBPHFaceRecognizer_create()\n",
    "    clf.train(faces, ids)\n",
    "    clf.write(\"classifier.xml\")\n",
    "    print(\"Classifier training completed and saved as 'classifier.xml'.\")\n",
    "\n",
    "train_classifier('data/faces_data.csv')\n"
   ]
  },
  {
   "cell_type": "markdown",
   "id": "035be000",
   "metadata": {},
   "source": [
    "# Recognizer Faces"
   ]
  },
  {
   "cell_type": "code",
   "execution_count": 3,
   "id": "da2686f0",
   "metadata": {},
   "outputs": [],
   "source": [
    "def draw_boundary(img, classifier, scaleFactor, minNeighbors, color, clf):\n",
    "    gray_img = cv2.cvtColor(img, cv2.COLOR_BGR2GRAY)\n",
    "    faces = classifier.detectMultiScale(gray_img, scaleFactor, minNeighbors)\n",
    "\n",
    "    for (x, y, w, h) in faces:\n",
    "        cv2.rectangle(img, (x, y), (x + w, y + h), color, 2)\n",
    "\n",
    "        id, pred = clf.predict(gray_img[y:y + h, x:x + w])\n",
    "        confidence = int(100 * (1 - pred / 300))\n",
    "\n",
    "        if confidence > 75:\n",
    "            df = pd.read_csv('data/faces_data.csv')\n",
    "            user_name = df[df['id'] == id]['name'].values\n",
    "            \n",
    "            if len(user_name) > 0:\n",
    "                cv2.putText(img, user_name[0], (x, y - 5), cv2.FONT_HERSHEY_SIMPLEX, 0.8, color, 1, cv2.LINE_AA)\n",
    "            else:\n",
    "                cv2.putText(img, \"Unknown\", (x, y - 5), cv2.FONT_HERSHEY_SIMPLEX, 0.8, (0, 0, 255), 1, cv2.LINE_AA)\n",
    "        else:\n",
    "            cv2.putText(img, \"UNKNOWN\", (x, y - 5), cv2.FONT_HERSHEY_SIMPLEX, 0.8, (0, 0, 255), 1, cv2.LINE_AA)\n",
    "\n",
    "    return img\n",
    "\n",
    "def recognize_faces():\n",
    "    # Loading classifier\n",
    "    faceCascade = cv2.CascadeClassifier(\"haarcascade_frontalface_default.xml\")\n",
    "    clf = cv2.face.LBPHFaceRecognizer_create()\n",
    "    clf.read(\"classifier.xml\")\n",
    "\n",
    "    video_capture = cv2.VideoCapture(0)\n",
    "\n",
    "    while True:\n",
    "        ret, img = video_capture.read()\n",
    "        img = draw_boundary(img, faceCascade, 1.1, 10, (255, 255, 255), clf)\n",
    "        cv2.imshow(\"Face Detection\", img)\n",
    "\n",
    "        if cv2.waitKey(1) == 13:  # 13 is the ASCII code for Enter\n",
    "            break\n",
    "\n",
    "    video_capture.release()\n",
    "    cv2.destroyAllWindows()\n",
    "recognize_faces()"
   ]
  }
 ],
 "metadata": {
  "kernelspec": {
   "display_name": "Python 3",
   "language": "python",
   "name": "python3"
  },
  "language_info": {
   "codemirror_mode": {
    "name": "ipython",
    "version": 3
   },
   "file_extension": ".py",
   "mimetype": "text/x-python",
   "name": "python",
   "nbconvert_exporter": "python",
   "pygments_lexer": "ipython3",
   "version": "3.12.4"
  }
 },
 "nbformat": 4,
 "nbformat_minor": 5
}
